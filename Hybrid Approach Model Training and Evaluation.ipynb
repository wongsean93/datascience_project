{
 "cells": [
  {
   "cell_type": "markdown",
   "metadata": {},
   "source": [
    "# Model Training, Testing and Evaluation"
   ]
  },
  {
   "cell_type": "code",
   "execution_count": 1,
   "metadata": {},
   "outputs": [],
   "source": [
    "#import libraries\n",
    "import os\n",
    "import pandas as pd\n",
    "import numpy as np\n",
    "from sklearn.feature_extraction.text import TfidfVectorizer\n",
    "from sklearn.model_selection import train_test_split\n",
    "from sklearn.preprocessing import LabelEncoder\n",
    "import seaborn as sns\n",
    "import nltk\n",
    "from sklearn.model_selection import cross_val_score, cross_val_predict\n",
    "from sklearn.model_selection import GridSearchCV\n",
    "import matplotlib.pyplot as plt\n",
    "import itertools\n",
    "from sklearn.metrics import accuracy_score, confusion_matrix, roc_auc_score, roc_curve, precision_recall_curve\n",
    "from sklearn.metrics import classification_report, average_precision_score, auc\n",
    "from mlxtend.plotting import plot_confusion_matrix\n",
    "from sklearn.svm import LinearSVC"
   ]
  },
  {
   "cell_type": "code",
   "execution_count": 2,
   "metadata": {},
   "outputs": [],
   "source": [
    "os.chdir('C:\\\\Users\\\\Sean\\\\Desktop\\excel_data')"
   ]
  },
  {
   "cell_type": "code",
   "execution_count": 3,
   "metadata": {},
   "outputs": [],
   "source": [
    "df = pd.read_csv(\"clean_df_vader.csv\")"
   ]
  },
  {
   "cell_type": "code",
   "execution_count": 4,
   "metadata": {},
   "outputs": [
    {
     "data": {
      "text/html": [
       "<div>\n",
       "<style scoped>\n",
       "    .dataframe tbody tr th:only-of-type {\n",
       "        vertical-align: middle;\n",
       "    }\n",
       "\n",
       "    .dataframe tbody tr th {\n",
       "        vertical-align: top;\n",
       "    }\n",
       "\n",
       "    .dataframe thead th {\n",
       "        text-align: right;\n",
       "    }\n",
       "</style>\n",
       "<table border=\"1\" class=\"dataframe\">\n",
       "  <thead>\n",
       "    <tr style=\"text-align: right;\">\n",
       "      <th></th>\n",
       "      <th>Unnamed: 0</th>\n",
       "      <th>date</th>\n",
       "      <th>drug_name</th>\n",
       "      <th>condition</th>\n",
       "      <th>rating</th>\n",
       "      <th>comment</th>\n",
       "      <th>final_clean</th>\n",
       "      <th>sentiment_vader</th>\n",
       "      <th>vader_score</th>\n",
       "    </tr>\n",
       "  </thead>\n",
       "  <tbody>\n",
       "    <tr>\n",
       "      <td>0</td>\n",
       "      <td>0</td>\n",
       "      <td>March 21, 2019</td>\n",
       "      <td>Abacavir</td>\n",
       "      <td>HIV Infection</td>\n",
       "      <td>1</td>\n",
       "      <td>\"Sorry to say this drug Abacavir definitely ha...</td>\n",
       "      <td>sorry say drug abacavir definitely bad unpleas...</td>\n",
       "      <td>-0.9136</td>\n",
       "      <td>0</td>\n",
       "    </tr>\n",
       "    <tr>\n",
       "      <td>1</td>\n",
       "      <td>1</td>\n",
       "      <td>September 1, 2019</td>\n",
       "      <td>Abacavir and lamivudine</td>\n",
       "      <td>HIV Infection</td>\n",
       "      <td>7</td>\n",
       "      <td>\"taking this combo for 2 months now together w...</td>\n",
       "      <td>take combo month together rezolsta feel nausea...</td>\n",
       "      <td>-0.5106</td>\n",
       "      <td>0</td>\n",
       "    </tr>\n",
       "    <tr>\n",
       "      <td>2</td>\n",
       "      <td>2</td>\n",
       "      <td>August 10, 2019</td>\n",
       "      <td>Abacavir and lamivudine</td>\n",
       "      <td>HIV Infection</td>\n",
       "      <td>10</td>\n",
       "      <td>\"My wife and I have been on  Epzicom since 200...</td>\n",
       "      <td>wife epzicom since along viramune work no side...</td>\n",
       "      <td>-0.1027</td>\n",
       "      <td>0</td>\n",
       "    </tr>\n",
       "    <tr>\n",
       "      <td>3</td>\n",
       "      <td>3</td>\n",
       "      <td>August 16, 2013</td>\n",
       "      <td>Abacavir and lamivudine</td>\n",
       "      <td>HIV Infection</td>\n",
       "      <td>10</td>\n",
       "      <td>\"Epzicom Reyataz AND Norvir triple combination...</td>\n",
       "      <td>epzicom reyataz norvir triple combination expe...</td>\n",
       "      <td>0.2732</td>\n",
       "      <td>1</td>\n",
       "    </tr>\n",
       "    <tr>\n",
       "      <td>4</td>\n",
       "      <td>4</td>\n",
       "      <td>March 16, 2013</td>\n",
       "      <td>Abacavir and lamivudine</td>\n",
       "      <td>HIV Infection</td>\n",
       "      <td>10</td>\n",
       "      <td>\"I've used this since first diagnosed and star...</td>\n",
       "      <td>use since first diagnose start haart work extr...</td>\n",
       "      <td>0.4536</td>\n",
       "      <td>1</td>\n",
       "    </tr>\n",
       "  </tbody>\n",
       "</table>\n",
       "</div>"
      ],
      "text/plain": [
       "   Unnamed: 0               date                drug_name      condition  \\\n",
       "0           0     March 21, 2019                 Abacavir  HIV Infection   \n",
       "1           1  September 1, 2019  Abacavir and lamivudine  HIV Infection   \n",
       "2           2    August 10, 2019  Abacavir and lamivudine  HIV Infection   \n",
       "3           3    August 16, 2013  Abacavir and lamivudine  HIV Infection   \n",
       "4           4     March 16, 2013  Abacavir and lamivudine  HIV Infection   \n",
       "\n",
       "   rating                                            comment  \\\n",
       "0       1  \"Sorry to say this drug Abacavir definitely ha...   \n",
       "1       7  \"taking this combo for 2 months now together w...   \n",
       "2      10  \"My wife and I have been on  Epzicom since 200...   \n",
       "3      10  \"Epzicom Reyataz AND Norvir triple combination...   \n",
       "4      10  \"I've used this since first diagnosed and star...   \n",
       "\n",
       "                                         final_clean  sentiment_vader  \\\n",
       "0  sorry say drug abacavir definitely bad unpleas...          -0.9136   \n",
       "1  take combo month together rezolsta feel nausea...          -0.5106   \n",
       "2  wife epzicom since along viramune work no side...          -0.1027   \n",
       "3  epzicom reyataz norvir triple combination expe...           0.2732   \n",
       "4  use since first diagnose start haart work extr...           0.4536   \n",
       "\n",
       "   vader_score  \n",
       "0            0  \n",
       "1            0  \n",
       "2            0  \n",
       "3            1  \n",
       "4            1  "
      ]
     },
     "execution_count": 4,
     "metadata": {},
     "output_type": "execute_result"
    }
   ],
   "source": [
    "vader_score = []\n",
    "\n",
    "for i in df.sentiment_vader:\n",
    "    if i <= 0:\n",
    "        score = 0\n",
    "    else:\n",
    "        score = 1\n",
    "    vader_score.append(score)\n",
    "\n",
    "df[\"vader_score\"] = vader_score\n",
    "df.head()"
   ]
  },
  {
   "cell_type": "code",
   "execution_count": 5,
   "metadata": {},
   "outputs": [],
   "source": [
    "svm_data = pd.DataFrame({\"final_clean\" : df[\"final_clean\"], \"vader_score\" : df[\"vader_score\"]})\n",
    "train, test = train_test_split(svm_data, test_size=0.3, random_state=101)"
   ]
  },
  {
   "cell_type": "code",
   "execution_count": 6,
   "metadata": {},
   "outputs": [
    {
     "name": "stdout",
     "output_type": "stream",
     "text": [
      "shape for vader_train_1: (49676, 2)\n",
      "shape for vader_train_2: (38370, 2)\n"
     ]
    }
   ],
   "source": [
    "vader_train_1 = train[train['vader_score']==0]\n",
    "vader_train_2 = train[train['vader_score']==1]\n",
    "\n",
    "print(\"shape for vader_train_1: \" + str(vader_train_1.shape))\n",
    "print(\"shape for vader_train_2: \" + str(vader_train_2.shape))"
   ]
  },
  {
   "cell_type": "code",
   "execution_count": 7,
   "metadata": {},
   "outputs": [
    {
     "name": "stdout",
     "output_type": "stream",
     "text": [
      "training dataset shape: (88046, 2)\n",
      "testing dataset shape: (37734, 2)\n",
      "vader_training_bs shape: (90000, 2)\n"
     ]
    }
   ],
   "source": [
    "vader_train_1 = train[train['vader_score']==0].sample(45000,replace=True, random_state=53)\n",
    "vader_train_2 = train[train['vader_score']==1].sample(45000,replace=True, random_state=53)\n",
    "\n",
    "vader_training_bs = pd.concat([vader_train_1, vader_train_2])\n",
    "\n",
    "print(\"training dataset shape: \" + str(train.shape))\n",
    "print(\"testing dataset shape: \" + str(test.shape))\n",
    "print(\"vader_training_bs shape: \" + str(vader_training_bs.shape))"
   ]
  },
  {
   "cell_type": "code",
   "execution_count": 8,
   "metadata": {},
   "outputs": [
    {
     "data": {
      "text/plain": [
       "1    0.5\n",
       "0    0.5\n",
       "Name: vader_score, dtype: float64"
      ]
     },
     "execution_count": 8,
     "metadata": {},
     "output_type": "execute_result"
    }
   ],
   "source": [
    "train['vader_score'].value_counts(normalize=True)\n",
    "vader_training_bs['vader_score'].value_counts(normalize=True)"
   ]
  },
  {
   "cell_type": "code",
   "execution_count": 9,
   "metadata": {},
   "outputs": [],
   "source": [
    "Train_X = vader_training_bs[\"final_clean\"]\n",
    "Train_Y = vader_training_bs[\"vader_score\"]\n",
    "Test_X = test[\"final_clean\"]\n",
    "Test_Y = test[\"vader_score\"]\n",
    "\n",
    "Encoder = LabelEncoder()\n",
    "Train_Y = Encoder.fit_transform(Train_Y)\n",
    "Test_Y = Encoder.fit_transform(Test_Y)"
   ]
  },
  {
   "cell_type": "code",
   "execution_count": 10,
   "metadata": {},
   "outputs": [],
   "source": [
    "SVM = LinearSVC(random_state=1)"
   ]
  },
  {
   "cell_type": "code",
   "execution_count": 11,
   "metadata": {},
   "outputs": [],
   "source": [
    "def tf_vec_ngram(params, X_train, y_train):\n",
    "    tfvec_p = TfidfVectorizer(ngram_range=(params))\n",
    "    tfvec_p.fit(X_train.astype(str))\n",
    "    X_train_tfvec_p = tfvec_p.transform(X_train.astype(str))\n",
    "    tfvec_score_p = cross_val_score(SVM, X_train_tfvec_p, y_train, cv=10)\n",
    "    return tfvec_score_p.mean()\n",
    "\n",
    "params = [(1,1), (1,2), (1,3)] \n",
    "\n",
    "ngram_scores = []\n",
    "\n",
    "for p in params:\n",
    "    ngram_scores.append(tf_vec_ngram(p, Train_X, Train_Y)*100)\n",
    "    \n",
    "ngrams = ['n_gram_(1,1)','n_gram_(1,2)','n_gram_(1,3)']\n",
    "ngram_df = pd.DataFrame({'params':ngrams, 'scores':ngram_scores}, index=[0,1,2])"
   ]
  },
  {
   "cell_type": "code",
   "execution_count": 12,
   "metadata": {
    "scrolled": false
   },
   "outputs": [
    {
     "data": {
      "image/png": "[encoded data removed]",
      "text/plain": [
       "<Figure size 432x288 with 1 Axes>"
      ]
     },
     "metadata": {
      "needs_background": "light"
     },
     "output_type": "display_data"
    }
   ],
   "source": [
    "# plot scores on graph\n",
    "sns.pointplot(x='params', y='scores', data=ngram_df)\n",
    "plt.ylabel('Accuracy Score')\n",
    "plt.xlabel('ngrams')\n",
    "plt.title('Accuracy Score of N-Grams in Hybrid Approach')\n",
    "plt.xticks(rotation=45)\n",
    "plt.tight_layout()\n",
    "plt.savefig('SVM ngram accuracy.png')"
   ]
  },
  {
   "cell_type": "code",
   "execution_count": 12,
   "metadata": {},
   "outputs": [
    {
     "data": {
      "text/html": [
       "<div>\n",
       "<style scoped>\n",
       "    .dataframe tbody tr th:only-of-type {\n",
       "        vertical-align: middle;\n",
       "    }\n",
       "\n",
       "    .dataframe tbody tr th {\n",
       "        vertical-align: top;\n",
       "    }\n",
       "\n",
       "    .dataframe thead th {\n",
       "        text-align: right;\n",
       "    }\n",
       "</style>\n",
       "<table border=\"1\" class=\"dataframe\">\n",
       "  <thead>\n",
       "    <tr style=\"text-align: right;\">\n",
       "      <th></th>\n",
       "      <th>params</th>\n",
       "      <th>scores</th>\n",
       "    </tr>\n",
       "  </thead>\n",
       "  <tbody>\n",
       "    <tr>\n",
       "      <td>0</td>\n",
       "      <td>n_gram_(1,1)</td>\n",
       "      <td>90.181111</td>\n",
       "    </tr>\n",
       "    <tr>\n",
       "      <td>1</td>\n",
       "      <td>n_gram_(1,2)</td>\n",
       "      <td>94.502222</td>\n",
       "    </tr>\n",
       "    <tr>\n",
       "      <td>2</td>\n",
       "      <td>n_gram_(1,3)</td>\n",
       "      <td>94.511111</td>\n",
       "    </tr>\n",
       "  </tbody>\n",
       "</table>\n",
       "</div>"
      ],
      "text/plain": [
       "         params     scores\n",
       "0  n_gram_(1,1)  90.181111\n",
       "1  n_gram_(1,2)  94.502222\n",
       "2  n_gram_(1,3)  94.511111"
      ]
     },
     "execution_count": 12,
     "metadata": {},
     "output_type": "execute_result"
    }
   ],
   "source": [
    "ngram_df"
   ]
  },
  {
   "cell_type": "code",
   "execution_count": 13,
   "metadata": {},
   "outputs": [],
   "source": [
    "def tf_vec_max_features(params, Train_X, Train_Y):\n",
    "    tfvec_p = TfidfVectorizer(max_features=params)\n",
    "    tfvec_p.fit(Train_X.astype(str))\n",
    "    Train_X_tfvec_p = tfvec_p.transform(Train_X.values.astype(str))\n",
    "    tfvec_score_p = cross_val_score(SVM, Train_X_tfvec_p, Train_Y, cv=10)\n",
    "    return tfvec_score_p.mean()\n",
    "\n",
    "max_features_params = [None, 1000, 5000, 10000, 20000]\n",
    "\n",
    "max_features_scores = [tf_vec_max_features(p, Train_X, Train_Y) for p in max_features_params]\n",
    "\n",
    "max_features = ['max_f_' + str(p) for p in max_features_params]\n",
    "\n",
    "max_features_df = pd.DataFrame({'params':max_features, 'scores':max_features_scores}, index=[0,1,2,3,4])\n",
    "max_features_df.scores = max_features_df.scores*100"
   ]
  },
  {
   "cell_type": "code",
   "execution_count": 15,
   "metadata": {},
   "outputs": [
    {
     "data": {
      "image/png": "[encoded data removed]",
      "text/plain": [
       "<Figure size 432x288 with 1 Axes>"
      ]
     },
     "metadata": {
      "needs_background": "light"
     },
     "output_type": "display_data"
    }
   ],
   "source": [
    "sns.pointplot(x='params', y='scores', data =max_features_df)\n",
    "plt.ylabel('Accuracy Score')\n",
    "plt.xlabel('Max Features')\n",
    "plt.xticks(rotation=45)\n",
    "plt.title('Accuracy of Max Features in Hybrid Approach')\n",
    "#plt.show()\n",
    "plt.tight_layout()\n",
    "plt.savefig('SVM Max_features.png')"
   ]
  },
  {
   "cell_type": "code",
   "execution_count": 14,
   "metadata": {},
   "outputs": [
    {
     "data": {
      "text/html": [
       "<div>\n",
       "<style scoped>\n",
       "    .dataframe tbody tr th:only-of-type {\n",
       "        vertical-align: middle;\n",
       "    }\n",
       "\n",
       "    .dataframe tbody tr th {\n",
       "        vertical-align: top;\n",
       "    }\n",
       "\n",
       "    .dataframe thead th {\n",
       "        text-align: right;\n",
       "    }\n",
       "</style>\n",
       "<table border=\"1\" class=\"dataframe\">\n",
       "  <thead>\n",
       "    <tr style=\"text-align: right;\">\n",
       "      <th></th>\n",
       "      <th>params</th>\n",
       "      <th>scores</th>\n",
       "    </tr>\n",
       "  </thead>\n",
       "  <tbody>\n",
       "    <tr>\n",
       "      <td>0</td>\n",
       "      <td>max_f_None</td>\n",
       "      <td>90.181111</td>\n",
       "    </tr>\n",
       "    <tr>\n",
       "      <td>1</td>\n",
       "      <td>max_f_1000</td>\n",
       "      <td>85.393333</td>\n",
       "    </tr>\n",
       "    <tr>\n",
       "      <td>2</td>\n",
       "      <td>max_f_5000</td>\n",
       "      <td>88.320000</td>\n",
       "    </tr>\n",
       "    <tr>\n",
       "      <td>3</td>\n",
       "      <td>max_f_10000</td>\n",
       "      <td>89.104444</td>\n",
       "    </tr>\n",
       "    <tr>\n",
       "      <td>4</td>\n",
       "      <td>max_f_20000</td>\n",
       "      <td>90.017778</td>\n",
       "    </tr>\n",
       "  </tbody>\n",
       "</table>\n",
       "</div>"
      ],
      "text/plain": [
       "        params     scores\n",
       "0   max_f_None  90.181111\n",
       "1   max_f_1000  85.393333\n",
       "2   max_f_5000  88.320000\n",
       "3  max_f_10000  89.104444\n",
       "4  max_f_20000  90.017778"
      ]
     },
     "execution_count": 14,
     "metadata": {},
     "output_type": "execute_result"
    }
   ],
   "source": [
    "max_features_df"
   ]
  },
  {
   "cell_type": "code",
   "execution_count": 15,
   "metadata": {},
   "outputs": [],
   "source": [
    "def tf_vec_max_df(params, Train_X, Train_Y):\n",
    "    tfvec_p = TfidfVectorizer(max_df=params)\n",
    "    tfvec_p.fit(Train_X.astype(str))\n",
    "    X_train_tfvec_p = tfvec_p.transform(Train_X.astype(str))\n",
    "    tfvec_score_p = cross_val_score(SVM, X_train_tfvec_p, Train_Y, cv=10)\n",
    "    return tfvec_score_p.mean()\n",
    "\n",
    "max_df_params = [0.25, 0.5, 0.75, 1.0]\n",
    "max_df_scores = [tf_vec_max_df(p, Train_X, Train_Y) for p in max_df_params]\n",
    "max_df = ['max_df_'+str(p) for p in max_df_params]\n",
    "\n",
    "max_df_df = pd.DataFrame({'params':max_df, 'scores':max_df_scores}, index=[0,1,2,3])\n",
    "max_df_df.scores = max_df_df.scores*100"
   ]
  },
  {
   "cell_type": "code",
   "execution_count": 18,
   "metadata": {},
   "outputs": [
    {
     "data": {
      "image/png": "[encoded data removed]",
      "text/plain": [
       "<Figure size 432x288 with 1 Axes>"
      ]
     },
     "metadata": {
      "needs_background": "light"
     },
     "output_type": "display_data"
    }
   ],
   "source": [
    "sns.pointplot(x='params', y='scores', data =max_df_df)\n",
    "plt.ylabel('Accuracy Score')\n",
    "plt.xlabel('max_df')\n",
    "plt.xticks(rotation=45)\n",
    "plt.title('Accuracy of Max df in Hybrid Approach')\n",
    "plt.tight_layout()\n",
    "plt.savefig('SVM max_df accuracy.png')"
   ]
  },
  {
   "cell_type": "code",
   "execution_count": 16,
   "metadata": {},
   "outputs": [
    {
     "data": {
      "text/html": [
       "<div>\n",
       "<style scoped>\n",
       "    .dataframe tbody tr th:only-of-type {\n",
       "        vertical-align: middle;\n",
       "    }\n",
       "\n",
       "    .dataframe tbody tr th {\n",
       "        vertical-align: top;\n",
       "    }\n",
       "\n",
       "    .dataframe thead th {\n",
       "        text-align: right;\n",
       "    }\n",
       "</style>\n",
       "<table border=\"1\" class=\"dataframe\">\n",
       "  <thead>\n",
       "    <tr style=\"text-align: right;\">\n",
       "      <th></th>\n",
       "      <th>params</th>\n",
       "      <th>scores</th>\n",
       "    </tr>\n",
       "  </thead>\n",
       "  <tbody>\n",
       "    <tr>\n",
       "      <td>0</td>\n",
       "      <td>max_df_0.25</td>\n",
       "      <td>90.105556</td>\n",
       "    </tr>\n",
       "    <tr>\n",
       "      <td>1</td>\n",
       "      <td>max_df_0.5</td>\n",
       "      <td>90.180000</td>\n",
       "    </tr>\n",
       "    <tr>\n",
       "      <td>2</td>\n",
       "      <td>max_df_0.75</td>\n",
       "      <td>90.181111</td>\n",
       "    </tr>\n",
       "    <tr>\n",
       "      <td>3</td>\n",
       "      <td>max_df_1.0</td>\n",
       "      <td>90.181111</td>\n",
       "    </tr>\n",
       "  </tbody>\n",
       "</table>\n",
       "</div>"
      ],
      "text/plain": [
       "        params     scores\n",
       "0  max_df_0.25  90.105556\n",
       "1   max_df_0.5  90.180000\n",
       "2  max_df_0.75  90.181111\n",
       "3   max_df_1.0  90.181111"
      ]
     },
     "execution_count": 16,
     "metadata": {},
     "output_type": "execute_result"
    }
   ],
   "source": [
    "max_df_df"
   ]
  },
  {
   "cell_type": "code",
   "execution_count": 17,
   "metadata": {},
   "outputs": [],
   "source": [
    "def tf_vec_min_df(params, Train_X, Train_Y):\n",
    "    tfvec_p = TfidfVectorizer(min_df=params)\n",
    "    tfvec_p.fit(Train_X.astype(str))\n",
    "    X_train_tfvec_p = tfvec_p.transform(Train_X.astype(str))\n",
    "    tfvec_score_p = cross_val_score(SVM, X_train_tfvec_p, Train_Y, cv=10)\n",
    "    return tfvec_score_p.mean()\n",
    "\n",
    "min_df_params = [1, 100, 1000, 5000, 10000]\n",
    "min_df_scores = [tf_vec_min_df(p, Train_X, Train_Y) for p in min_df_params]\n",
    "min_df = ['min_df_'+str(p) for p in min_df_params]\n",
    "\n",
    "min_df_df = pd.DataFrame({'params':min_df, 'scores':min_df_scores}, index=[0,1,2,3,4])\n",
    "min_df_df.scores = min_df_df.scores*100"
   ]
  },
  {
   "cell_type": "code",
   "execution_count": 21,
   "metadata": {},
   "outputs": [
    {
     "data": {
      "image/png": "[encoded data removed]",
      "text/plain": [
       "<Figure size 432x288 with 1 Axes>"
      ]
     },
     "metadata": {
      "needs_background": "light"
     },
     "output_type": "display_data"
    }
   ],
   "source": [
    "sns.pointplot(x='params', y='scores', data =min_df_df)\n",
    "plt.ylabel('Accuracy Score')\n",
    "plt.xlabel('min_df')\n",
    "plt.xticks(rotation=45)\n",
    "plt.title('Accuracy of Min df in Hybrid Approach')\n",
    "plt.tight_layout()\n",
    "plt.savefig('SVM min_df accuracy.png')"
   ]
  },
  {
   "cell_type": "code",
   "execution_count": 18,
   "metadata": {},
   "outputs": [
    {
     "data": {
      "text/html": [
       "<div>\n",
       "<style scoped>\n",
       "    .dataframe tbody tr th:only-of-type {\n",
       "        vertical-align: middle;\n",
       "    }\n",
       "\n",
       "    .dataframe tbody tr th {\n",
       "        vertical-align: top;\n",
       "    }\n",
       "\n",
       "    .dataframe thead th {\n",
       "        text-align: right;\n",
       "    }\n",
       "</style>\n",
       "<table border=\"1\" class=\"dataframe\">\n",
       "  <thead>\n",
       "    <tr style=\"text-align: right;\">\n",
       "      <th></th>\n",
       "      <th>params</th>\n",
       "      <th>scores</th>\n",
       "    </tr>\n",
       "  </thead>\n",
       "  <tbody>\n",
       "    <tr>\n",
       "      <td>0</td>\n",
       "      <td>min_df_1</td>\n",
       "      <td>90.181111</td>\n",
       "    </tr>\n",
       "    <tr>\n",
       "      <td>1</td>\n",
       "      <td>min_df_100</td>\n",
       "      <td>87.666667</td>\n",
       "    </tr>\n",
       "    <tr>\n",
       "      <td>2</td>\n",
       "      <td>min_df_1000</td>\n",
       "      <td>82.166667</td>\n",
       "    </tr>\n",
       "    <tr>\n",
       "      <td>3</td>\n",
       "      <td>min_df_5000</td>\n",
       "      <td>70.996667</td>\n",
       "    </tr>\n",
       "    <tr>\n",
       "      <td>4</td>\n",
       "      <td>min_df_10000</td>\n",
       "      <td>66.112222</td>\n",
       "    </tr>\n",
       "  </tbody>\n",
       "</table>\n",
       "</div>"
      ],
      "text/plain": [
       "         params     scores\n",
       "0      min_df_1  90.181111\n",
       "1    min_df_100  87.666667\n",
       "2   min_df_1000  82.166667\n",
       "3   min_df_5000  70.996667\n",
       "4  min_df_10000  66.112222"
      ]
     },
     "execution_count": 18,
     "metadata": {},
     "output_type": "execute_result"
    }
   ],
   "source": [
    "min_df_df"
   ]
  },
  {
   "cell_type": "code",
   "execution_count": 19,
   "metadata": {},
   "outputs": [
    {
     "name": "stdout",
     "output_type": "stream",
     "text": [
      "Fitting 10 folds for each of 6 candidates, totalling 60 fits\n"
     ]
    },
    {
     "name": "stderr",
     "output_type": "stream",
     "text": [
      "[Parallel(n_jobs=-1)]: Using backend LokyBackend with 4 concurrent workers.\n",
      "[Parallel(n_jobs=-1)]: Done  42 tasks      | elapsed:  6.4min\n",
      "[Parallel(n_jobs=-1)]: Done  60 out of  60 | elapsed: 10.5min finished\n"
     ]
    },
    {
     "name": "stdout",
     "output_type": "stream",
     "text": [
      "Best Score for: (1, 1) is 0.8944777777777778\n",
      "Best Params for: (1, 1) is {'C': 1, 'intercept_scaling': 1}\n",
      "Fitting 10 folds for each of 6 candidates, totalling 60 fits\n"
     ]
    },
    {
     "name": "stderr",
     "output_type": "stream",
     "text": [
      "[Parallel(n_jobs=-1)]: Using backend LokyBackend with 4 concurrent workers.\n",
      "[Parallel(n_jobs=-1)]: Done  42 tasks      | elapsed: 21.5min\n",
      "[Parallel(n_jobs=-1)]: Done  60 out of  60 | elapsed: 38.6min finished\n"
     ]
    },
    {
     "name": "stdout",
     "output_type": "stream",
     "text": [
      "Best Score for: (1, 2) is 0.9396333333333333\n",
      "Best Params for: (1, 2) is {'C': 1, 'intercept_scaling': 1}\n",
      "Fitting 10 folds for each of 6 candidates, totalling 60 fits\n"
     ]
    },
    {
     "name": "stderr",
     "output_type": "stream",
     "text": [
      "[Parallel(n_jobs=-1)]: Using backend LokyBackend with 4 concurrent workers.\n",
      "[Parallel(n_jobs=-1)]: Done  42 tasks      | elapsed: 37.4min\n",
      "[Parallel(n_jobs=-1)]: Done  60 out of  60 | elapsed: 60.2min finished\n"
     ]
    },
    {
     "name": "stdout",
     "output_type": "stream",
     "text": [
      "Best Score for: (1, 3) is 0.9431777777777778\n",
      "Best Params for: (1, 3) is {'C': 1, 'intercept_scaling': 1}\n"
     ]
    }
   ],
   "source": [
    "SVM = LinearSVC(random_state=0, loss=\"hinge\")\n",
    "\n",
    "ngram_list = [(1,1), (1,2), (1,3)]\n",
    "\n",
    "score_list =[]\n",
    "\n",
    "for i in ngram_list:\n",
    "    tfvec_b = TfidfVectorizer(ngram_range=i, max_df=0.5)\n",
    "    \n",
    "    # fit training data on model\n",
    "    tfvec_b.fit(Train_X.astype(str))\n",
    "    \n",
    "    #transform training data into matrix\n",
    "    X_train_cvec = tfvec_b.transform(Train_X.astype(str))\n",
    "\n",
    "    sv_params = {'C':[0.1, 1],\n",
    "                 'intercept_scaling':[1, 100, 500]}\n",
    "\n",
    "    # gridsearchCV\n",
    "    svm_grid = GridSearchCV(SVM, param_grid=sv_params, cv=10, n_jobs=-1, verbose=1)\n",
    "\n",
    "    # fit with the tranformed matrix\n",
    "    svm_grid.fit(X_train_cvec, Train_Y)\n",
    "\n",
    "    print('Best Score for: ' + str(i) + \" is \" + str(svm_grid.best_score_))\n",
    "\n",
    "    # assign the best estimator\n",
    "    best_svm = svm_grid.best_estimator_\n",
    "    print('Best Params for: ' + str(i) + \" is \" + str(svm_grid.best_params_))\n",
    "    \n",
    "    score_list.append(svm_grid.best_score_)"
   ]
  },
  {
   "cell_type": "code",
   "execution_count": 20,
   "metadata": {},
   "outputs": [],
   "source": [
    "ngram_df = pd.DataFrame({\"n_gram\": ngram_list, \"score\":score_list})\n",
    "ngram_df.to_csv(\"ngram_score_vader.csv\")"
   ]
  },
  {
   "cell_type": "code",
   "execution_count": 21,
   "metadata": {},
   "outputs": [
    {
     "name": "stdout",
     "output_type": "stream",
     "text": [
      "Fitting 10 folds for each of 1 candidates, totalling 10 fits\n"
     ]
    },
    {
     "name": "stderr",
     "output_type": "stream",
     "text": [
      "[Parallel(n_jobs=-1)]: Using backend LokyBackend with 4 concurrent workers.\n",
      "[Parallel(n_jobs=-1)]: Done  10 out of  10 | elapsed:  1.1min finished\n"
     ]
    }
   ],
   "source": [
    "#fit in best parameters\n",
    "tfvec_b = TfidfVectorizer(ngram_range=(1,3), max_df=0.5)\n",
    "\n",
    "# fit the training data\n",
    "tfvec_b.fit(Train_X.astype(str))\n",
    "\n",
    "#transform training data into matrix\n",
    "X_train_cvec = tfvec_b.transform(Train_X.astype(str))\n",
    "\n",
    "sv_params = {'C':[1], 'intercept_scaling':[1]}\n",
    "\n",
    "# gridsearchCV\n",
    "svm_grid = GridSearchCV(SVM, param_grid=sv_params, cv=10, n_jobs=-1, verbose=1)\n",
    "\n",
    "# fit with the tranformed matrix\n",
    "svm_grid.fit(X_train_cvec, Train_Y)\n",
    "\n",
    "best_svm = svm_grid.best_estimator_"
   ]
  },
  {
   "cell_type": "code",
   "execution_count": 22,
   "metadata": {},
   "outputs": [
    {
     "name": "stdout",
     "output_type": "stream",
     "text": [
      "0.8591455981343086\n"
     ]
    }
   ],
   "source": [
    "SVM = LinearSVC(random_state=0, loss=\"hinge\", C=1, intercept_scaling=1)\n",
    "\n",
    "test_tfidf = TfidfVectorizer(ngram_range=(1,3), max_df=0.5)\n",
    "test_tfidf.fit(Test_X)\n",
    "X_test_cvec = tfvec_b.transform(Test_X)\n",
    "\n",
    "# Train model\n",
    "SVM.fit(X_train_cvec, Train_Y)\n",
    "\n",
    "# predictions of testing data.\n",
    "y_pred = SVM.predict(X_test_cvec)\n",
    "\n",
    "# Compare predicted y to actual y\n",
    "accuracy = (y_pred == Test_Y).mean()\n",
    "\n",
    "print(accuracy)"
   ]
  },
  {
   "cell_type": "code",
   "execution_count": 24,
   "metadata": {},
   "outputs": [
    {
     "data": {
      "text/plain": [
       "['svm_model.pkl']"
      ]
     },
     "execution_count": 24,
     "metadata": {},
     "output_type": "execute_result"
    }
   ],
   "source": [
    "from sklearn.externals import joblib\n",
    "joblib.dump(SVM, 'svm_model.pkl') "
   ]
  },
  {
   "cell_type": "code",
   "execution_count": 27,
   "metadata": {},
   "outputs": [],
   "source": [
    "cm_cv = confusion_matrix(Test_Y, y_pred)"
   ]
  },
  {
   "cell_type": "code",
   "execution_count": 28,
   "metadata": {},
   "outputs": [
    {
     "data": {
      "image/png": "[encoded data removed]",
      "text/plain": [
       "<Figure size 432x288 with 2 Axes>"
      ]
     },
     "metadata": {
      "needs_background": "light"
     },
     "output_type": "display_data"
    }
   ],
   "source": [
    "fig,ax = plot_confusion_matrix(cm_cv, show_normed=True, colorbar=True, show_absolute=True)\n",
    "plt.tight_layout()\n",
    "plt.savefig('confusion_matrix_VADER.png')"
   ]
  },
  {
   "cell_type": "code",
   "execution_count": 29,
   "metadata": {},
   "outputs": [
    {
     "name": "stdout",
     "output_type": "stream",
     "text": [
      "              precision    recall  f1-score   support\n",
      "\n",
      "           0       0.89      0.85      0.87     21296\n",
      "           1       0.82      0.86      0.84     16438\n",
      "\n",
      "    accuracy                           0.86     37734\n",
      "   macro avg       0.86      0.86      0.86     37734\n",
      "weighted avg       0.86      0.86      0.86     37734\n",
      "\n"
     ]
    }
   ],
   "source": [
    "print(classification_report(Test_Y, y_pred))"
   ]
  },
  {
   "cell_type": "code",
   "execution_count": 30,
   "metadata": {},
   "outputs": [
    {
     "data": {
      "text/html": [
       "<div>\n",
       "<style scoped>\n",
       "    .dataframe tbody tr th:only-of-type {\n",
       "        vertical-align: middle;\n",
       "    }\n",
       "\n",
       "    .dataframe tbody tr th {\n",
       "        vertical-align: top;\n",
       "    }\n",
       "\n",
       "    .dataframe thead th {\n",
       "        text-align: right;\n",
       "    }\n",
       "</style>\n",
       "<table border=\"1\" class=\"dataframe\">\n",
       "  <thead>\n",
       "    <tr style=\"text-align: right;\">\n",
       "      <th></th>\n",
       "      <th>precision</th>\n",
       "      <th>recall</th>\n",
       "      <th>f1-score</th>\n",
       "      <th>support</th>\n",
       "    </tr>\n",
       "  </thead>\n",
       "  <tbody>\n",
       "    <tr>\n",
       "      <td>0</td>\n",
       "      <td>0.891135</td>\n",
       "      <td>0.854855</td>\n",
       "      <td>0.872618</td>\n",
       "      <td>21296.000000</td>\n",
       "    </tr>\n",
       "    <tr>\n",
       "      <td>1</td>\n",
       "      <td>0.821381</td>\n",
       "      <td>0.864704</td>\n",
       "      <td>0.842486</td>\n",
       "      <td>16438.000000</td>\n",
       "    </tr>\n",
       "    <tr>\n",
       "      <td>accuracy</td>\n",
       "      <td>0.859146</td>\n",
       "      <td>0.859146</td>\n",
       "      <td>0.859146</td>\n",
       "      <td>0.859146</td>\n",
       "    </tr>\n",
       "    <tr>\n",
       "      <td>macro avg</td>\n",
       "      <td>0.856258</td>\n",
       "      <td>0.859780</td>\n",
       "      <td>0.857552</td>\n",
       "      <td>37734.000000</td>\n",
       "    </tr>\n",
       "    <tr>\n",
       "      <td>weighted avg</td>\n",
       "      <td>0.860748</td>\n",
       "      <td>0.859146</td>\n",
       "      <td>0.859492</td>\n",
       "      <td>37734.000000</td>\n",
       "    </tr>\n",
       "  </tbody>\n",
       "</table>\n",
       "</div>"
      ],
      "text/plain": [
       "              precision    recall  f1-score       support\n",
       "0              0.891135  0.854855  0.872618  21296.000000\n",
       "1              0.821381  0.864704  0.842486  16438.000000\n",
       "accuracy       0.859146  0.859146  0.859146      0.859146\n",
       "macro avg      0.856258  0.859780  0.857552  37734.000000\n",
       "weighted avg   0.860748  0.859146  0.859492  37734.000000"
      ]
     },
     "execution_count": 30,
     "metadata": {},
     "output_type": "execute_result"
    }
   ],
   "source": [
    "report = classification_report(Test_Y, y_pred, output_dict=True)\n",
    "report_df = pd.DataFrame(report).transpose()\n",
    "report_df"
   ]
  },
  {
   "cell_type": "code",
   "execution_count": 31,
   "metadata": {},
   "outputs": [],
   "source": [
    "report_df.to_csv(\"classication_report_svm_vader.csv\")"
   ]
  }
 ],
 "metadata": {
  "kernelspec": {
   "display_name": "Python 3",
   "language": "python",
   "name": "python3"
  },
  "language_info": {
   "codemirror_mode": {
    "name": "ipython",
    "version": 3
   },
   "file_extension": ".py",
   "mimetype": "text/x-python",
   "name": "python",
   "nbconvert_exporter": "python",
   "pygments_lexer": "ipython3",
   "version": "3.7.4"
  }
 },
 "nbformat": 4,
 "nbformat_minor": 2
}
