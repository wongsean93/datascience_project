{
 "cells": [
  {
   "cell_type": "markdown",
   "metadata": {},
   "source": [
    "# Model Training, Testing and Evaluation"
   ]
  },
  {
   "cell_type": "code",
   "execution_count": 1,
   "metadata": {},
   "outputs": [],
   "source": [
    "#import libraries\n",
    "import os\n",
    "import pandas as pd\n",
    "import numpy as np\n",
    "from sklearn.feature_extraction.text import TfidfVectorizer\n",
    "from sklearn.model_selection import train_test_split\n",
    "from sklearn.preprocessing import LabelEncoder\n",
    "import seaborn as sns\n",
    "import nltk\n",
    "from sklearn.model_selection import cross_val_score, cross_val_predict\n",
    "from sklearn.model_selection import GridSearchCV\n",
    "import matplotlib.pyplot as plt\n",
    "import itertools\n",
    "from sklearn.metrics import accuracy_score, confusion_matrix, roc_auc_score, roc_curve, precision_recall_curve\n",
    "from sklearn.metrics import classification_report, average_precision_score, auc\n",
    "from mlxtend.plotting import plot_confusion_matrix\n",
    "from sklearn.svm import LinearSVC"
   ]
  },
  {
   "cell_type": "code",
   "execution_count": 2,
   "metadata": {},
   "outputs": [],
   "source": [
    "os.chdir('C:\\\\Users\\\\Sean\\\\Desktop\\excel_data')"
   ]
  },
  {
   "cell_type": "code",
   "execution_count": 3,
   "metadata": {},
   "outputs": [],
   "source": [
    "df = pd.read_csv(\"clean_df_vader.csv\")"
   ]
  },
  {
   "cell_type": "code",
   "execution_count": 4,
   "metadata": {},
   "outputs": [
    {
     "data": {
      "text/html": [
       "<div>\n",
       "<style scoped>\n",
       "    .dataframe tbody tr th:only-of-type {\n",
       "        vertical-align: middle;\n",
       "    }\n",
       "\n",
       "    .dataframe tbody tr th {\n",
       "        vertical-align: top;\n",
       "    }\n",
       "\n",
       "    .dataframe thead th {\n",
       "        text-align: right;\n",
       "    }\n",
       "</style>\n",
       "<table border=\"1\" class=\"dataframe\">\n",
       "  <thead>\n",
       "    <tr style=\"text-align: right;\">\n",
       "      <th></th>\n",
       "      <th>Unnamed: 0</th>\n",
       "      <th>date</th>\n",
       "      <th>drug_name</th>\n",
       "      <th>condition</th>\n",
       "      <th>rating</th>\n",
       "      <th>comment</th>\n",
       "      <th>final_clean</th>\n",
       "      <th>sentiment_vader</th>\n",
       "      <th>rating_score</th>\n",
       "    </tr>\n",
       "  </thead>\n",
       "  <tbody>\n",
       "    <tr>\n",
       "      <td>0</td>\n",
       "      <td>0</td>\n",
       "      <td>March 21, 2019</td>\n",
       "      <td>Abacavir</td>\n",
       "      <td>HIV Infection</td>\n",
       "      <td>1</td>\n",
       "      <td>\"Sorry to say this drug Abacavir definitely ha...</td>\n",
       "      <td>sorry say drug abacavir definitely bad unpleas...</td>\n",
       "      <td>-0.9136</td>\n",
       "      <td>0</td>\n",
       "    </tr>\n",
       "    <tr>\n",
       "      <td>1</td>\n",
       "      <td>1</td>\n",
       "      <td>September 1, 2019</td>\n",
       "      <td>Abacavir and lamivudine</td>\n",
       "      <td>HIV Infection</td>\n",
       "      <td>7</td>\n",
       "      <td>\"taking this combo for 2 months now together w...</td>\n",
       "      <td>take combo month together rezolsta feel nausea...</td>\n",
       "      <td>-0.5106</td>\n",
       "      <td>1</td>\n",
       "    </tr>\n",
       "    <tr>\n",
       "      <td>2</td>\n",
       "      <td>2</td>\n",
       "      <td>August 10, 2019</td>\n",
       "      <td>Abacavir and lamivudine</td>\n",
       "      <td>HIV Infection</td>\n",
       "      <td>10</td>\n",
       "      <td>\"My wife and I have been on  Epzicom since 200...</td>\n",
       "      <td>wife epzicom since along viramune work no side...</td>\n",
       "      <td>-0.1027</td>\n",
       "      <td>1</td>\n",
       "    </tr>\n",
       "    <tr>\n",
       "      <td>3</td>\n",
       "      <td>3</td>\n",
       "      <td>August 16, 2013</td>\n",
       "      <td>Abacavir and lamivudine</td>\n",
       "      <td>HIV Infection</td>\n",
       "      <td>10</td>\n",
       "      <td>\"Epzicom Reyataz AND Norvir triple combination...</td>\n",
       "      <td>epzicom reyataz norvir triple combination expe...</td>\n",
       "      <td>0.2732</td>\n",
       "      <td>1</td>\n",
       "    </tr>\n",
       "    <tr>\n",
       "      <td>4</td>\n",
       "      <td>4</td>\n",
       "      <td>March 16, 2013</td>\n",
       "      <td>Abacavir and lamivudine</td>\n",
       "      <td>HIV Infection</td>\n",
       "      <td>10</td>\n",
       "      <td>\"I've used this since first diagnosed and star...</td>\n",
       "      <td>use since first diagnose start haart work extr...</td>\n",
       "      <td>0.4536</td>\n",
       "      <td>1</td>\n",
       "    </tr>\n",
       "  </tbody>\n",
       "</table>\n",
       "</div>"
      ],
      "text/plain": [
       "   Unnamed: 0               date                drug_name      condition  \\\n",
       "0           0     March 21, 2019                 Abacavir  HIV Infection   \n",
       "1           1  September 1, 2019  Abacavir and lamivudine  HIV Infection   \n",
       "2           2    August 10, 2019  Abacavir and lamivudine  HIV Infection   \n",
       "3           3    August 16, 2013  Abacavir and lamivudine  HIV Infection   \n",
       "4           4     March 16, 2013  Abacavir and lamivudine  HIV Infection   \n",
       "\n",
       "   rating                                            comment  \\\n",
       "0       1  \"Sorry to say this drug Abacavir definitely ha...   \n",
       "1       7  \"taking this combo for 2 months now together w...   \n",
       "2      10  \"My wife and I have been on  Epzicom since 200...   \n",
       "3      10  \"Epzicom Reyataz AND Norvir triple combination...   \n",
       "4      10  \"I've used this since first diagnosed and star...   \n",
       "\n",
       "                                         final_clean  sentiment_vader  \\\n",
       "0  sorry say drug abacavir definitely bad unpleas...          -0.9136   \n",
       "1  take combo month together rezolsta feel nausea...          -0.5106   \n",
       "2  wife epzicom since along viramune work no side...          -0.1027   \n",
       "3  epzicom reyataz norvir triple combination expe...           0.2732   \n",
       "4  use since first diagnose start haart work extr...           0.4536   \n",
       "\n",
       "   rating_score  \n",
       "0             0  \n",
       "1             1  \n",
       "2             1  \n",
       "3             1  \n",
       "4             1  "
      ]
     },
     "execution_count": 4,
     "metadata": {},
     "output_type": "execute_result"
    }
   ],
   "source": [
    "rating_score = []\n",
    "\n",
    "for i in df.rating:\n",
    "    if i <= 5:\n",
    "        score = 0\n",
    "    else:\n",
    "        score = 1\n",
    "    rating_score.append(score)\n",
    "\n",
    "df[\"rating_score\"] = rating_score\n",
    "df.head()"
   ]
  },
  {
   "cell_type": "code",
   "execution_count": 5,
   "metadata": {},
   "outputs": [],
   "source": [
    "svm_data = pd.DataFrame({\"final_clean\" : df[\"final_clean\"], \"rating_score\" : df[\"rating_score\"]})\n",
    "train, test = train_test_split(svm_data, test_size=0.3, random_state=101)"
   ]
  },
  {
   "cell_type": "code",
   "execution_count": 6,
   "metadata": {},
   "outputs": [
    {
     "name": "stdout",
     "output_type": "stream",
     "text": [
      "shape for rating_train_1: (35744, 2)\n",
      "shape for rating_train_2: (52302, 2)\n"
     ]
    }
   ],
   "source": [
    "rating_train_1 = train[train['rating_score']==0]\n",
    "rating_train_2 = train[train['rating_score']==1]\n",
    "\n",
    "print(\"shape for rating_train_1: \" + str(rating_train_1.shape))\n",
    "print(\"shape for rating_train_2: \" + str(rating_train_2.shape))"
   ]
  },
  {
   "cell_type": "code",
   "execution_count": 7,
   "metadata": {},
   "outputs": [
    {
     "name": "stdout",
     "output_type": "stream",
     "text": [
      "training dataset shape: (88046, 2)\n",
      "testing dataset shape: (37734, 2)\n",
      "rating_training_bs shape: (90000, 2)\n"
     ]
    }
   ],
   "source": [
    "rating_train_1 = train[train['rating_score']==0].sample(45000,replace=True, random_state=101)\n",
    "rating_train_2 = train[train['rating_score']==1].sample(45000,replace=True, random_state=101)\n",
    "\n",
    "rating_training_bs = pd.concat([rating_train_1, rating_train_2])\n",
    "\n",
    "print(\"training dataset shape: \" + str(train.shape))\n",
    "print(\"testing dataset shape: \" + str(test.shape))\n",
    "print(\"rating_training_bs shape: \" + str(rating_training_bs.shape))"
   ]
  },
  {
   "cell_type": "code",
   "execution_count": 8,
   "metadata": {},
   "outputs": [
    {
     "data": {
      "text/plain": [
       "1    0.5\n",
       "0    0.5\n",
       "Name: rating_score, dtype: float64"
      ]
     },
     "execution_count": 8,
     "metadata": {},
     "output_type": "execute_result"
    }
   ],
   "source": [
    "train['rating_score'].value_counts(normalize=True)\n",
    "rating_training_bs['rating_score'].value_counts(normalize=True)"
   ]
  },
  {
   "cell_type": "code",
   "execution_count": 9,
   "metadata": {},
   "outputs": [],
   "source": [
    "Train_X = rating_training_bs[\"final_clean\"]\n",
    "Train_Y = rating_training_bs[\"rating_score\"]\n",
    "Test_X = test[\"final_clean\"]\n",
    "Test_Y = test[\"rating_score\"]\n",
    "\n",
    "Encoder = LabelEncoder()\n",
    "Train_Y = Encoder.fit_transform(Train_Y)\n",
    "Test_Y = Encoder.fit_transform(Test_Y)"
   ]
  },
  {
   "cell_type": "code",
   "execution_count": 10,
   "metadata": {},
   "outputs": [],
   "source": [
    "SVM = LinearSVC(random_state=1)"
   ]
  },
  {
   "cell_type": "code",
   "execution_count": 11,
   "metadata": {},
   "outputs": [],
   "source": [
    "def tf_vec_ngram(params, X_train, y_train):\n",
    "    tfvec_p = TfidfVectorizer(ngram_range=(params))\n",
    "    tfvec_p.fit(X_train.astype(str))\n",
    "    X_train_tfvec_p = tfvec_p.transform(X_train.astype(str))\n",
    "    tfvec_score_p = cross_val_score(SVM, X_train_tfvec_p, y_train, cv=10)\n",
    "    return tfvec_score_p.mean()\n",
    "\n",
    "params = [(1,1), (1,2), (1,3)] \n",
    "\n",
    "ngram_scores = []\n",
    "\n",
    "for p in params:\n",
    "    ngram_scores.append(tf_vec_ngram(p, Train_X, Train_Y)*100)\n",
    "    \n",
    "ngrams = ['n_gram_(1,1)','n_gram_(1,2)','n_gram_(1,3)']\n",
    "ngram_df = pd.DataFrame({'params':ngrams, 'scores':ngram_scores}, index=[0,1,2])"
   ]
  },
  {
   "cell_type": "code",
   "execution_count": 12,
   "metadata": {
    "scrolled": false
   },
   "outputs": [
    {
     "data": {
      "image/png": "[encoded data removed]",
      "text/plain": [
       "<Figure size 432x288 with 1 Axes>"
      ]
     },
     "metadata": {
      "needs_background": "light"
     },
     "output_type": "display_data"
    }
   ],
   "source": [
    "# plot scores on graph\n",
    "sns.pointplot(x='params', y='scores', data=ngram_df)\n",
    "plt.ylabel('Accuracy Score')\n",
    "plt.xlabel('ngrams')\n",
    "plt.title('Accuracy Score of N-Grams in Machine Learning Approach')\n",
    "plt.xticks(rotation=45)\n",
    "plt.tight_layout()\n",
    "plt.savefig('SVM ngram accuracy for rating.png')"
   ]
  },
  {
   "cell_type": "code",
   "execution_count": 13,
   "metadata": {},
   "outputs": [
    {
     "data": {
      "text/html": [
       "<div>\n",
       "<style scoped>\n",
       "    .dataframe tbody tr th:only-of-type {\n",
       "        vertical-align: middle;\n",
       "    }\n",
       "\n",
       "    .dataframe tbody tr th {\n",
       "        vertical-align: top;\n",
       "    }\n",
       "\n",
       "    .dataframe thead th {\n",
       "        text-align: right;\n",
       "    }\n",
       "</style>\n",
       "<table border=\"1\" class=\"dataframe\">\n",
       "  <thead>\n",
       "    <tr style=\"text-align: right;\">\n",
       "      <th></th>\n",
       "      <th>params</th>\n",
       "      <th>scores</th>\n",
       "    </tr>\n",
       "  </thead>\n",
       "  <tbody>\n",
       "    <tr>\n",
       "      <td>0</td>\n",
       "      <td>n_gram_(1,1)</td>\n",
       "      <td>80.835556</td>\n",
       "    </tr>\n",
       "    <tr>\n",
       "      <td>1</td>\n",
       "      <td>n_gram_(1,2)</td>\n",
       "      <td>91.176667</td>\n",
       "    </tr>\n",
       "    <tr>\n",
       "      <td>2</td>\n",
       "      <td>n_gram_(1,3)</td>\n",
       "      <td>91.632222</td>\n",
       "    </tr>\n",
       "  </tbody>\n",
       "</table>\n",
       "</div>"
      ],
      "text/plain": [
       "         params     scores\n",
       "0  n_gram_(1,1)  80.835556\n",
       "1  n_gram_(1,2)  91.176667\n",
       "2  n_gram_(1,3)  91.632222"
      ]
     },
     "execution_count": 13,
     "metadata": {},
     "output_type": "execute_result"
    }
   ],
   "source": [
    "ngram_df"
   ]
  },
  {
   "cell_type": "code",
   "execution_count": 14,
   "metadata": {},
   "outputs": [],
   "source": [
    "def tf_vec_max_features(params, Train_X, Train_Y):\n",
    "    tfvec_p = TfidfVectorizer(max_features=params)\n",
    "    tfvec_p.fit(Train_X.astype(str))\n",
    "    Train_X_tfvec_p = tfvec_p.transform(Train_X.values.astype(str))\n",
    "    tfvec_score_p = cross_val_score(SVM, Train_X_tfvec_p, Train_Y, cv=10)\n",
    "    return tfvec_score_p.mean()\n",
    "\n",
    "max_features_params = [None, 1000, 5000, 10000, 20000]\n",
    "\n",
    "max_features_scores = [tf_vec_max_features(p, Train_X, Train_Y) for p in max_features_params]\n",
    "\n",
    "max_features = ['max_f_'+str(p) for p in max_features_params]\n",
    "\n",
    "max_features_df = pd.DataFrame({'params':max_features, 'scores':max_features_scores}, index=[0,1,2,3,4])\n",
    "max_features_df.scores = max_features_df.scores*100"
   ]
  },
  {
   "cell_type": "code",
   "execution_count": 15,
   "metadata": {},
   "outputs": [
    {
     "data": {
      "image/png": "[encoded data removed]",
      "text/plain": [
       "<Figure size 432x288 with 1 Axes>"
      ]
     },
     "metadata": {
      "needs_background": "light"
     },
     "output_type": "display_data"
    }
   ],
   "source": [
    "sns.pointplot(x='params', y='scores', data =max_features_df)\n",
    "plt.ylabel('Accuracy Score')\n",
    "plt.xlabel('Max Features')\n",
    "plt.xticks(rotation=45)\n",
    "plt.title('Accuracy of Max Features in Machine Learning Approach')\n",
    "#plt.show()\n",
    "plt.tight_layout()\n",
    "plt.savefig('SVM Max_features rating.png')"
   ]
  },
  {
   "cell_type": "code",
   "execution_count": 16,
   "metadata": {},
   "outputs": [
    {
     "data": {
      "text/html": [
       "<div>\n",
       "<style scoped>\n",
       "    .dataframe tbody tr th:only-of-type {\n",
       "        vertical-align: middle;\n",
       "    }\n",
       "\n",
       "    .dataframe tbody tr th {\n",
       "        vertical-align: top;\n",
       "    }\n",
       "\n",
       "    .dataframe thead th {\n",
       "        text-align: right;\n",
       "    }\n",
       "</style>\n",
       "<table border=\"1\" class=\"dataframe\">\n",
       "  <thead>\n",
       "    <tr style=\"text-align: right;\">\n",
       "      <th></th>\n",
       "      <th>params</th>\n",
       "      <th>scores</th>\n",
       "    </tr>\n",
       "  </thead>\n",
       "  <tbody>\n",
       "    <tr>\n",
       "      <td>0</td>\n",
       "      <td>max_f_None</td>\n",
       "      <td>80.835556</td>\n",
       "    </tr>\n",
       "    <tr>\n",
       "      <td>1</td>\n",
       "      <td>max_f_1000</td>\n",
       "      <td>75.154444</td>\n",
       "    </tr>\n",
       "    <tr>\n",
       "      <td>2</td>\n",
       "      <td>max_f_5000</td>\n",
       "      <td>77.506667</td>\n",
       "    </tr>\n",
       "    <tr>\n",
       "      <td>3</td>\n",
       "      <td>max_f_10000</td>\n",
       "      <td>78.926667</td>\n",
       "    </tr>\n",
       "    <tr>\n",
       "      <td>4</td>\n",
       "      <td>max_f_20000</td>\n",
       "      <td>80.558889</td>\n",
       "    </tr>\n",
       "  </tbody>\n",
       "</table>\n",
       "</div>"
      ],
      "text/plain": [
       "        params     scores\n",
       "0   max_f_None  80.835556\n",
       "1   max_f_1000  75.154444\n",
       "2   max_f_5000  77.506667\n",
       "3  max_f_10000  78.926667\n",
       "4  max_f_20000  80.558889"
      ]
     },
     "execution_count": 16,
     "metadata": {},
     "output_type": "execute_result"
    }
   ],
   "source": [
    "max_features_df"
   ]
  },
  {
   "cell_type": "code",
   "execution_count": 17,
   "metadata": {},
   "outputs": [],
   "source": [
    "def tf_vec_max_df(params, Train_X, Train_Y):\n",
    "    tfvec_p = TfidfVectorizer(max_df=params)\n",
    "    tfvec_p.fit(Train_X.astype(str))\n",
    "    X_train_tfvec_p = tfvec_p.transform(Train_X.astype(str))\n",
    "    tfvec_score_p = cross_val_score(SVM, X_train_tfvec_p, Train_Y, cv=10)\n",
    "    return tfvec_score_p.mean()\n",
    "\n",
    "max_df_params = [0.25, 0.5, 0.75, 1.0]\n",
    "max_df_scores = [tf_vec_max_df(p, Train_X, Train_Y) for p in max_df_params]\n",
    "max_df = ['max_df_'+str(p) for p in max_df_params]\n",
    "\n",
    "max_df_df = pd.DataFrame({'params':max_df, 'scores':max_df_scores}, index=[0,1,2,3])\n",
    "max_df_df.scores = max_df_df.scores*100"
   ]
  },
  {
   "cell_type": "code",
   "execution_count": 18,
   "metadata": {},
   "outputs": [
    {
     "data": {
      "image/png": "[encoded data removed]",
      "text/plain": [
       "<Figure size 432x288 with 1 Axes>"
      ]
     },
     "metadata": {
      "needs_background": "light"
     },
     "output_type": "display_data"
    }
   ],
   "source": [
    "sns.pointplot(x='params', y='scores', data =max_df_df)\n",
    "plt.ylabel('Accuracy Score')\n",
    "plt.xlabel('max_df')\n",
    "plt.xticks(rotation=45)\n",
    "plt.title('Accuracy of Max df in Machine Learning Approach')\n",
    "#plt.show()\n",
    "plt.tight_layout()\n",
    "plt.savefig('SVM max_df accuracy rating.png')"
   ]
  },
  {
   "cell_type": "code",
   "execution_count": 19,
   "metadata": {},
   "outputs": [
    {
     "data": {
      "text/html": [
       "<div>\n",
       "<style scoped>\n",
       "    .dataframe tbody tr th:only-of-type {\n",
       "        vertical-align: middle;\n",
       "    }\n",
       "\n",
       "    .dataframe tbody tr th {\n",
       "        vertical-align: top;\n",
       "    }\n",
       "\n",
       "    .dataframe thead th {\n",
       "        text-align: right;\n",
       "    }\n",
       "</style>\n",
       "<table border=\"1\" class=\"dataframe\">\n",
       "  <thead>\n",
       "    <tr style=\"text-align: right;\">\n",
       "      <th></th>\n",
       "      <th>params</th>\n",
       "      <th>scores</th>\n",
       "    </tr>\n",
       "  </thead>\n",
       "  <tbody>\n",
       "    <tr>\n",
       "      <td>0</td>\n",
       "      <td>max_df_0.25</td>\n",
       "      <td>80.705556</td>\n",
       "    </tr>\n",
       "    <tr>\n",
       "      <td>1</td>\n",
       "      <td>max_df_0.5</td>\n",
       "      <td>80.835556</td>\n",
       "    </tr>\n",
       "    <tr>\n",
       "      <td>2</td>\n",
       "      <td>max_df_0.75</td>\n",
       "      <td>80.835556</td>\n",
       "    </tr>\n",
       "    <tr>\n",
       "      <td>3</td>\n",
       "      <td>max_df_1.0</td>\n",
       "      <td>80.835556</td>\n",
       "    </tr>\n",
       "  </tbody>\n",
       "</table>\n",
       "</div>"
      ],
      "text/plain": [
       "        params     scores\n",
       "0  max_df_0.25  80.705556\n",
       "1   max_df_0.5  80.835556\n",
       "2  max_df_0.75  80.835556\n",
       "3   max_df_1.0  80.835556"
      ]
     },
     "execution_count": 19,
     "metadata": {},
     "output_type": "execute_result"
    }
   ],
   "source": [
    "max_df_df"
   ]
  },
  {
   "cell_type": "code",
   "execution_count": 20,
   "metadata": {},
   "outputs": [],
   "source": [
    "def tf_vec_min_df(params, Train_X, Train_Y):\n",
    "    tfvec_p = TfidfVectorizer(min_df=params)\n",
    "    tfvec_p.fit(Train_X.astype(str))\n",
    "    X_train_tfvec_p = tfvec_p.transform(Train_X.astype(str))\n",
    "    tfvec_score_p = cross_val_score(SVM, X_train_tfvec_p, Train_Y, cv=10)\n",
    "    return tfvec_score_p.mean()\n",
    "\n",
    "min_df_params = [1, 100, 1000, 5000, 10000]\n",
    "min_df_scores = [tf_vec_min_df(p, Train_X, Train_Y) for p in min_df_params]\n",
    "min_df = ['min_df_'+str(p) for p in min_df_params]\n",
    "\n",
    "min_df_df = pd.DataFrame({'params':min_df, 'scores':min_df_scores}, index=[0,1,2,3,4])\n",
    "min_df_df.scores = min_df_df.scores*100"
   ]
  },
  {
   "cell_type": "code",
   "execution_count": 21,
   "metadata": {},
   "outputs": [
    {
     "data": {
      "image/png": "[encoded data removed]",
      "text/plain": [
       "<Figure size 432x288 with 1 Axes>"
      ]
     },
     "metadata": {
      "needs_background": "light"
     },
     "output_type": "display_data"
    }
   ],
   "source": [
    "sns.pointplot(x='params', y='scores', data =min_df_df)\n",
    "plt.ylabel('Accuracy Score')\n",
    "plt.xlabel('min_df')\n",
    "plt.xticks(rotation=45)\n",
    "plt.title('Accuracy of Min df in Machine Learning Approach')\n",
    "plt.tight_layout()\n",
    "plt.savefig('SVM min_df accuracy rating.png')"
   ]
  },
  {
   "cell_type": "code",
   "execution_count": 22,
   "metadata": {},
   "outputs": [
    {
     "data": {
      "text/html": [
       "<div>\n",
       "<style scoped>\n",
       "    .dataframe tbody tr th:only-of-type {\n",
       "        vertical-align: middle;\n",
       "    }\n",
       "\n",
       "    .dataframe tbody tr th {\n",
       "        vertical-align: top;\n",
       "    }\n",
       "\n",
       "    .dataframe thead th {\n",
       "        text-align: right;\n",
       "    }\n",
       "</style>\n",
       "<table border=\"1\" class=\"dataframe\">\n",
       "  <thead>\n",
       "    <tr style=\"text-align: right;\">\n",
       "      <th></th>\n",
       "      <th>params</th>\n",
       "      <th>scores</th>\n",
       "    </tr>\n",
       "  </thead>\n",
       "  <tbody>\n",
       "    <tr>\n",
       "      <td>0</td>\n",
       "      <td>min_df_1</td>\n",
       "      <td>80.835556</td>\n",
       "    </tr>\n",
       "    <tr>\n",
       "      <td>1</td>\n",
       "      <td>min_df_100</td>\n",
       "      <td>76.647778</td>\n",
       "    </tr>\n",
       "    <tr>\n",
       "      <td>2</td>\n",
       "      <td>min_df_1000</td>\n",
       "      <td>73.375556</td>\n",
       "    </tr>\n",
       "    <tr>\n",
       "      <td>3</td>\n",
       "      <td>min_df_5000</td>\n",
       "      <td>67.511111</td>\n",
       "    </tr>\n",
       "    <tr>\n",
       "      <td>4</td>\n",
       "      <td>min_df_10000</td>\n",
       "      <td>64.601111</td>\n",
       "    </tr>\n",
       "  </tbody>\n",
       "</table>\n",
       "</div>"
      ],
      "text/plain": [
       "         params     scores\n",
       "0      min_df_1  80.835556\n",
       "1    min_df_100  76.647778\n",
       "2   min_df_1000  73.375556\n",
       "3   min_df_5000  67.511111\n",
       "4  min_df_10000  64.601111"
      ]
     },
     "execution_count": 22,
     "metadata": {},
     "output_type": "execute_result"
    }
   ],
   "source": [
    "min_df_df"
   ]
  },
  {
   "cell_type": "code",
   "execution_count": 23,
   "metadata": {
    "scrolled": true
   },
   "outputs": [
    {
     "name": "stdout",
     "output_type": "stream",
     "text": [
      "Fitting 10 folds for each of 6 candidates, totalling 60 fits\n"
     ]
    },
    {
     "name": "stderr",
     "output_type": "stream",
     "text": [
      "[Parallel(n_jobs=-1)]: Using backend LokyBackend with 4 concurrent workers.\n",
      "[Parallel(n_jobs=-1)]: Done  42 tasks      | elapsed:  7.2min\n",
      "[Parallel(n_jobs=-1)]: Done  60 out of  60 | elapsed: 11.6min finished\n"
     ]
    },
    {
     "name": "stdout",
     "output_type": "stream",
     "text": [
      "Best Score for: (1, 1) is 0.7952444444444444\n",
      "Best Params for: (1, 1) is {'C': 1, 'intercept_scaling': 1}\n",
      "Fitting 10 folds for each of 6 candidates, totalling 60 fits\n"
     ]
    },
    {
     "name": "stderr",
     "output_type": "stream",
     "text": [
      "[Parallel(n_jobs=-1)]: Using backend LokyBackend with 4 concurrent workers.\n",
      "[Parallel(n_jobs=-1)]: Done  42 tasks      | elapsed: 23.1min\n",
      "[Parallel(n_jobs=-1)]: Done  60 out of  60 | elapsed: 38.3min finished\n"
     ]
    },
    {
     "name": "stdout",
     "output_type": "stream",
     "text": [
      "Best Score for: (1, 2) is 0.8956888888888889\n",
      "Best Params for: (1, 2) is {'C': 1, 'intercept_scaling': 1}\n",
      "Fitting 10 folds for each of 6 candidates, totalling 60 fits\n"
     ]
    },
    {
     "name": "stderr",
     "output_type": "stream",
     "text": [
      "[Parallel(n_jobs=-1)]: Using backend LokyBackend with 4 concurrent workers.\n",
      "[Parallel(n_jobs=-1)]: Done  42 tasks      | elapsed: 36.2min\n",
      "[Parallel(n_jobs=-1)]: Done  60 out of  60 | elapsed: 60.1min finished\n"
     ]
    },
    {
     "name": "stdout",
     "output_type": "stream",
     "text": [
      "Best Score for: (1, 3) is 0.9107\n",
      "Best Params for: (1, 3) is {'C': 1, 'intercept_scaling': 1}\n"
     ]
    }
   ],
   "source": [
    "SVM = LinearSVC(random_state=0, loss=\"hinge\")\n",
    "\n",
    "ngram_list = [(1,1), (1,2), (1,3)]\n",
    "\n",
    "score_list = []\n",
    "\n",
    "for i in ngram_list:\n",
    "    tfvec_b = TfidfVectorizer(ngram_range=i, max_df=0.5)\n",
    "    \n",
    "    # fit the training data\n",
    "    tfvec_b.fit(Train_X.astype(str))\n",
    "    \n",
    "    #transform training data into matrix\n",
    "    X_train_cvec = tfvec_b.transform(Train_X.astype(str))\n",
    "\n",
    "    sv_params = {'C':[0.1, 1],\n",
    "                 'intercept_scaling':[1, 100,500]}\n",
    "\n",
    "    # gridsearchCV\n",
    "    svm_grid = GridSearchCV(SVM, param_grid=sv_params, cv=10, n_jobs=-1, verbose=1)\n",
    "\n",
    "    # fit with the tranformed matrix\n",
    "    svm_grid.fit(X_train_cvec, Train_Y)\n",
    "\n",
    "    print('Best Score for: ' + str(i) + \" is \" + str(svm_grid.best_score_))\n",
    "\n",
    "    # assign the best estimator\n",
    "    best_svm = svm_grid.best_estimator_\n",
    "    print('Best Params for: ' + str(i) + \" is \" + str(svm_grid.best_params_))\n",
    "    score_list.append(svm_grid.best_score_)"
   ]
  },
  {
   "cell_type": "code",
   "execution_count": 24,
   "metadata": {},
   "outputs": [],
   "source": [
    "ngram_df = pd.DataFrame({\"n_gram\": ngram_list, \"score\":score_list})\n",
    "ngram_df.to_csv(\"ngram_score_rating.csv\")"
   ]
  },
  {
   "cell_type": "code",
   "execution_count": 28,
   "metadata": {},
   "outputs": [
    {
     "name": "stdout",
     "output_type": "stream",
     "text": [
      "Fitting 10 folds for each of 1 candidates, totalling 10 fits\n"
     ]
    },
    {
     "name": "stderr",
     "output_type": "stream",
     "text": [
      "[Parallel(n_jobs=-1)]: Using backend LokyBackend with 4 concurrent workers.\n",
      "[Parallel(n_jobs=-1)]: Done  10 out of  10 | elapsed:  1.4min finished\n"
     ]
    }
   ],
   "source": [
    "#fit in best parameters\n",
    "tfvec_b = TfidfVectorizer(ngram_range=(1,3), max_df=0.5)\n",
    "\n",
    "# fit the training data\n",
    "tfvec_b.fit(Train_X.astype(str))\n",
    "\n",
    "#transform training data into matrix\n",
    "X_train_cvec = tfvec_b.transform(Train_X.astype(str))\n",
    "\n",
    "sv_params = {'C':[1], 'intercept_scaling':[1]}\n",
    "\n",
    "# gridsearchCV\n",
    "svm_grid = GridSearchCV(SVM, param_grid=sv_params, cv=10, n_jobs=-1, verbose=1)\n",
    "\n",
    "# fit with the tranformed matrix\n",
    "svm_grid.fit(X_train_cvec, Train_Y)\n",
    "\n",
    "best_svm = svm_grid.best_estimator_"
   ]
  },
  {
   "cell_type": "code",
   "execution_count": 29,
   "metadata": {},
   "outputs": [
    {
     "name": "stdout",
     "output_type": "stream",
     "text": [
      "0.7878306036995812\n"
     ]
    }
   ],
   "source": [
    "SVM = LinearSVC(random_state=0, loss=\"hinge\", C=1, intercept_scaling=1)\n",
    "\n",
    "test_tfidf = TfidfVectorizer(ngram_range=(1,3), max_df=0.5)\n",
    "test_tfidf.fit(Test_X)\n",
    "X_test_cvec = tfvec_b.transform(Test_X)\n",
    "\n",
    "# Train the model\n",
    "SVM.fit(X_train_cvec, Train_Y)\n",
    "\n",
    "# make prediction\n",
    "y_pred = SVM.predict(X_test_cvec)\n",
    "\n",
    "# Compare predicted y to actual y \n",
    "accuracy = (y_pred == Test_Y).mean()\n",
    "print(accuracy)"
   ]
  },
  {
   "cell_type": "code",
   "execution_count": 30,
   "metadata": {},
   "outputs": [],
   "source": [
    "cm_cv = confusion_matrix(Test_Y, y_pred)"
   ]
  },
  {
   "cell_type": "code",
   "execution_count": 34,
   "metadata": {},
   "outputs": [
    {
     "data": {
      "image/png": "[encoded data removed]",
      "text/plain": [
       "<Figure size 432x288 with 2 Axes>"
      ]
     },
     "metadata": {
      "needs_background": "light"
     },
     "output_type": "display_data"
    }
   ],
   "source": [
    "fig,ax = plot_confusion_matrix(cm_cv, show_normed=True, colorbar=True, show_absolute=True)\n",
    "plt.tight_layout()\n",
    "plt.savefig('confusion_matrix_rating.png')"
   ]
  },
  {
   "cell_type": "code",
   "execution_count": 29,
   "metadata": {},
   "outputs": [
    {
     "name": "stdout",
     "output_type": "stream",
     "text": [
      "              precision    recall  f1-score   support\n",
      "\n",
      "           0       0.75      0.72      0.73     15412\n",
      "           1       0.81      0.84      0.82     22322\n",
      "\n",
      "    accuracy                           0.79     37734\n",
      "   macro avg       0.78      0.78      0.78     37734\n",
      "weighted avg       0.79      0.79      0.79     37734\n",
      "\n"
     ]
    }
   ],
   "source": [
    "print(classification_report(Test_Y, y_pred))"
   ]
  },
  {
   "cell_type": "code",
   "execution_count": 30,
   "metadata": {},
   "outputs": [
    {
     "data": {
      "text/html": [
       "<div>\n",
       "<style scoped>\n",
       "    .dataframe tbody tr th:only-of-type {\n",
       "        vertical-align: middle;\n",
       "    }\n",
       "\n",
       "    .dataframe tbody tr th {\n",
       "        vertical-align: top;\n",
       "    }\n",
       "\n",
       "    .dataframe thead th {\n",
       "        text-align: right;\n",
       "    }\n",
       "</style>\n",
       "<table border=\"1\" class=\"dataframe\">\n",
       "  <thead>\n",
       "    <tr style=\"text-align: right;\">\n",
       "      <th></th>\n",
       "      <th>precision</th>\n",
       "      <th>recall</th>\n",
       "      <th>f1-score</th>\n",
       "      <th>support</th>\n",
       "    </tr>\n",
       "  </thead>\n",
       "  <tbody>\n",
       "    <tr>\n",
       "      <td>0</td>\n",
       "      <td>0.752799</td>\n",
       "      <td>0.715481</td>\n",
       "      <td>0.733666</td>\n",
       "      <td>15412.000000</td>\n",
       "    </tr>\n",
       "    <tr>\n",
       "      <td>1</td>\n",
       "      <td>0.810058</td>\n",
       "      <td>0.837783</td>\n",
       "      <td>0.823687</td>\n",
       "      <td>22322.000000</td>\n",
       "    </tr>\n",
       "    <tr>\n",
       "      <td>accuracy</td>\n",
       "      <td>0.787831</td>\n",
       "      <td>0.787831</td>\n",
       "      <td>0.787831</td>\n",
       "      <td>0.787831</td>\n",
       "    </tr>\n",
       "    <tr>\n",
       "      <td>macro avg</td>\n",
       "      <td>0.781429</td>\n",
       "      <td>0.776632</td>\n",
       "      <td>0.778677</td>\n",
       "      <td>37734.000000</td>\n",
       "    </tr>\n",
       "    <tr>\n",
       "      <td>weighted avg</td>\n",
       "      <td>0.786671</td>\n",
       "      <td>0.787831</td>\n",
       "      <td>0.786919</td>\n",
       "      <td>37734.000000</td>\n",
       "    </tr>\n",
       "  </tbody>\n",
       "</table>\n",
       "</div>"
      ],
      "text/plain": [
       "              precision    recall  f1-score       support\n",
       "0              0.752799  0.715481  0.733666  15412.000000\n",
       "1              0.810058  0.837783  0.823687  22322.000000\n",
       "accuracy       0.787831  0.787831  0.787831      0.787831\n",
       "macro avg      0.781429  0.776632  0.778677  37734.000000\n",
       "weighted avg   0.786671  0.787831  0.786919  37734.000000"
      ]
     },
     "execution_count": 30,
     "metadata": {},
     "output_type": "execute_result"
    }
   ],
   "source": [
    "report = classification_report(Test_Y, y_pred, output_dict=True)\n",
    "report_df = pd.DataFrame(report).transpose()\n",
    "report_df"
   ]
  },
  {
   "cell_type": "code",
   "execution_count": 31,
   "metadata": {},
   "outputs": [],
   "source": [
    "report_df.to_csv(\"classication_report_svm_rating.csv\")"
   ]
  }
 ],
 "metadata": {
  "kernelspec": {
   "display_name": "Python 3",
   "language": "python",
   "name": "python3"
  },
  "language_info": {
   "codemirror_mode": {
    "name": "ipython",
    "version": 3
   },
   "file_extension": ".py",
   "mimetype": "text/x-python",
   "name": "python",
   "nbconvert_exporter": "python",
   "pygments_lexer": "ipython3",
   "version": "3.7.4"
  }
 },
 "nbformat": 4,
 "nbformat_minor": 2
}
