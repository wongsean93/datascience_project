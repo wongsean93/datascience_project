{
 "cells": [
  {
   "cell_type": "code",
   "execution_count": 1,
   "metadata": {},
   "outputs": [],
   "source": [
    "import numpy as np\n",
    "import pandas as pd\n",
    "import os\n",
    "import random\n",
    "import matplotlib.pyplot as plt"
   ]
  },
  {
   "cell_type": "code",
   "execution_count": 2,
   "metadata": {},
   "outputs": [],
   "source": [
    "os.chdir('C:\\\\Users\\\\Sean\\\\Desktop\\excel_data')"
   ]
  },
  {
   "cell_type": "code",
   "execution_count": 3,
   "metadata": {},
   "outputs": [],
   "source": [
    "ngram_vader_df = pd.read_csv('ngram_score_vader.csv')\n",
    "ngram_rating_df = pd.read_csv(\"ngram_score_rating.csv\")"
   ]
  },
  {
   "cell_type": "code",
   "execution_count": 4,
   "metadata": {},
   "outputs": [
    {
     "data": {
      "text/html": [
       "<div>\n",
       "<style scoped>\n",
       "    .dataframe tbody tr th:only-of-type {\n",
       "        vertical-align: middle;\n",
       "    }\n",
       "\n",
       "    .dataframe tbody tr th {\n",
       "        vertical-align: top;\n",
       "    }\n",
       "\n",
       "    .dataframe thead th {\n",
       "        text-align: right;\n",
       "    }\n",
       "</style>\n",
       "<table border=\"1\" class=\"dataframe\">\n",
       "  <thead>\n",
       "    <tr style=\"text-align: right;\">\n",
       "      <th></th>\n",
       "      <th>n_gram</th>\n",
       "      <th>score</th>\n",
       "    </tr>\n",
       "  </thead>\n",
       "  <tbody>\n",
       "    <tr>\n",
       "      <td>0</td>\n",
       "      <td>(1, 1)</td>\n",
       "      <td>0.894478</td>\n",
       "    </tr>\n",
       "    <tr>\n",
       "      <td>1</td>\n",
       "      <td>(1, 2)</td>\n",
       "      <td>0.939633</td>\n",
       "    </tr>\n",
       "    <tr>\n",
       "      <td>2</td>\n",
       "      <td>(1, 3)</td>\n",
       "      <td>0.943178</td>\n",
       "    </tr>\n",
       "  </tbody>\n",
       "</table>\n",
       "</div>"
      ],
      "text/plain": [
       "   n_gram     score\n",
       "0  (1, 1)  0.894478\n",
       "1  (1, 2)  0.939633\n",
       "2  (1, 3)  0.943178"
      ]
     },
     "execution_count": 4,
     "metadata": {},
     "output_type": "execute_result"
    }
   ],
   "source": [
    "ngram_vader_df  = ngram_vader_df.drop(['Unnamed: 0'],axis=1)\n",
    "ngram_rating_df = ngram_rating_df.drop(['Unnamed: 0'],axis=1)\n",
    "ngram_vader_df"
   ]
  },
  {
   "cell_type": "code",
   "execution_count": 5,
   "metadata": {},
   "outputs": [
    {
     "data": {
      "text/html": [
       "<div>\n",
       "<style scoped>\n",
       "    .dataframe tbody tr th:only-of-type {\n",
       "        vertical-align: middle;\n",
       "    }\n",
       "\n",
       "    .dataframe tbody tr th {\n",
       "        vertical-align: top;\n",
       "    }\n",
       "\n",
       "    .dataframe thead th {\n",
       "        text-align: right;\n",
       "    }\n",
       "</style>\n",
       "<table border=\"1\" class=\"dataframe\">\n",
       "  <thead>\n",
       "    <tr style=\"text-align: right;\">\n",
       "      <th></th>\n",
       "      <th>n_gram</th>\n",
       "      <th>vader_score</th>\n",
       "      <th>rating_score</th>\n",
       "    </tr>\n",
       "  </thead>\n",
       "  <tbody>\n",
       "    <tr>\n",
       "      <td>0</td>\n",
       "      <td>(1, 1)</td>\n",
       "      <td>0.894478</td>\n",
       "      <td>0.795244</td>\n",
       "    </tr>\n",
       "    <tr>\n",
       "      <td>1</td>\n",
       "      <td>(1, 2)</td>\n",
       "      <td>0.939633</td>\n",
       "      <td>0.895689</td>\n",
       "    </tr>\n",
       "    <tr>\n",
       "      <td>2</td>\n",
       "      <td>(1, 3)</td>\n",
       "      <td>0.943178</td>\n",
       "      <td>0.910700</td>\n",
       "    </tr>\n",
       "  </tbody>\n",
       "</table>\n",
       "</div>"
      ],
      "text/plain": [
       "   n_gram  vader_score  rating_score\n",
       "0  (1, 1)     0.894478      0.795244\n",
       "1  (1, 2)     0.939633      0.895689\n",
       "2  (1, 3)     0.943178      0.910700"
      ]
     },
     "execution_count": 5,
     "metadata": {},
     "output_type": "execute_result"
    }
   ],
   "source": [
    "new_df = pd.DataFrame({\"n_gram\":ngram_vader_df.n_gram, \"vader_score\":ngram_vader_df.score, \"rating_score\":ngram_rating_df.score})\n",
    "new_df"
   ]
  },
  {
   "cell_type": "code",
   "execution_count": 6,
   "metadata": {},
   "outputs": [
    {
     "data": {
      "text/html": [
       "<div>\n",
       "<style scoped>\n",
       "    .dataframe tbody tr th:only-of-type {\n",
       "        vertical-align: middle;\n",
       "    }\n",
       "\n",
       "    .dataframe tbody tr th {\n",
       "        vertical-align: top;\n",
       "    }\n",
       "\n",
       "    .dataframe thead th {\n",
       "        text-align: right;\n",
       "    }\n",
       "</style>\n",
       "<table border=\"1\" class=\"dataframe\">\n",
       "  <thead>\n",
       "    <tr style=\"text-align: right;\">\n",
       "      <th></th>\n",
       "      <th>n_gram</th>\n",
       "      <th>vader_score</th>\n",
       "      <th>rating_score</th>\n",
       "    </tr>\n",
       "  </thead>\n",
       "  <tbody>\n",
       "    <tr>\n",
       "      <td>0</td>\n",
       "      <td>(1, 1)</td>\n",
       "      <td>89.447778</td>\n",
       "      <td>79.524444</td>\n",
       "    </tr>\n",
       "    <tr>\n",
       "      <td>1</td>\n",
       "      <td>(1, 2)</td>\n",
       "      <td>93.963333</td>\n",
       "      <td>89.568889</td>\n",
       "    </tr>\n",
       "    <tr>\n",
       "      <td>2</td>\n",
       "      <td>(1, 3)</td>\n",
       "      <td>94.317778</td>\n",
       "      <td>91.070000</td>\n",
       "    </tr>\n",
       "  </tbody>\n",
       "</table>\n",
       "</div>"
      ],
      "text/plain": [
       "   n_gram  vader_score  rating_score\n",
       "0  (1, 1)    89.447778     79.524444\n",
       "1  (1, 2)    93.963333     89.568889\n",
       "2  (1, 3)    94.317778     91.070000"
      ]
     },
     "execution_count": 6,
     "metadata": {},
     "output_type": "execute_result"
    }
   ],
   "source": [
    "new_df.vader_score = new_df.vader_score * 100\n",
    "new_df.rating_score = new_df.rating_score * 100\n",
    "new_df"
   ]
  },
  {
   "cell_type": "code",
   "execution_count": 7,
   "metadata": {},
   "outputs": [
    {
     "data": {
      "image/png": "[encoded data removed]",
      "text/plain": [
       "<Figure size 432x288 with 1 Axes>"
      ]
     },
     "metadata": {
      "needs_background": "light"
     },
     "output_type": "display_data"
    }
   ],
   "source": [
    "df = new_df\n",
    "\n",
    "index = np.arange(3)\n",
    "bar_width = 0.35\n",
    "\n",
    "fig, ax = plt.subplots()\n",
    "summer = ax.bar(index, df[\"vader_score\"], bar_width, label=\"Hybrid Approach\")\n",
    "\n",
    "winter = ax.bar(index+bar_width, df[\"rating_score\"], bar_width, label=\"Machine Learning Approach\")\n",
    "\n",
    "ax.set_xlabel('n_gram')\n",
    "ax.set_ylabel('Accuracy (%)')\n",
    "ax.set_title('Comparison of Accuracy Scores for N-Grams')\n",
    "ax.set_xticks(index + bar_width / 2)\n",
    "ax.set_yticks(np.arange(0, 140, step=20))\n",
    "ax.set_xticklabels([\"(1,1)\", \"(1,2)\", \"(1,3)\"])\n",
    "ax.legend()\n",
    "\n",
    "#plt.show()\n",
    "plt.tight_layout()\n",
    "plt.savefig('comparison_ngram_accuracy.png')"
   ]
  },
  {
   "cell_type": "code",
   "execution_count": 8,
   "metadata": {},
   "outputs": [
    {
     "name": "stdout",
     "output_type": "stream",
     "text": [
      "     Unnamed: 0  precision    recall  f1-score       support\n",
      "0             0   0.891135  0.854855  0.872618  21296.000000\n",
      "1             1   0.821381  0.864704  0.842486  16438.000000\n",
      "2      accuracy   0.859146  0.859146  0.859146      0.859146\n",
      "3     macro avg   0.856258  0.859780  0.857552  37734.000000\n",
      "4  weighted avg   0.860748  0.859146  0.859492  37734.000000\n",
      "     Unnamed: 0  precision    recall  f1-score       support\n",
      "0             0   0.752799  0.715481  0.733666  15412.000000\n",
      "1             1   0.810058  0.837783  0.823687  22322.000000\n",
      "2      accuracy   0.787831  0.787831  0.787831      0.787831\n",
      "3     macro avg   0.781429  0.776632  0.778677  37734.000000\n",
      "4  weighted avg   0.786671  0.787831  0.786919  37734.000000\n"
     ]
    }
   ],
   "source": [
    "vader_df = pd.read_csv(\"classication_report_svm_vader.csv\")\n",
    "rating_df = pd.read_csv(\"classication_report_svm_rating.csv\")\n",
    "print(vader_df)\n",
    "print(rating_df)"
   ]
  },
  {
   "cell_type": "code",
   "execution_count": 9,
   "metadata": {},
   "outputs": [
    {
     "data": {
      "text/html": [
       "<div>\n",
       "<style scoped>\n",
       "    .dataframe tbody tr th:only-of-type {\n",
       "        vertical-align: middle;\n",
       "    }\n",
       "\n",
       "    .dataframe tbody tr th {\n",
       "        vertical-align: top;\n",
       "    }\n",
       "\n",
       "    .dataframe thead th {\n",
       "        text-align: right;\n",
       "    }\n",
       "</style>\n",
       "<table border=\"1\" class=\"dataframe\">\n",
       "  <thead>\n",
       "    <tr style=\"text-align: right;\">\n",
       "      <th></th>\n",
       "      <th>VADER score</th>\n",
       "      <th>Rating score</th>\n",
       "    </tr>\n",
       "  </thead>\n",
       "  <tbody>\n",
       "    <tr>\n",
       "      <td>negative</td>\n",
       "      <td>89.113515</td>\n",
       "      <td>75.279902</td>\n",
       "    </tr>\n",
       "    <tr>\n",
       "      <td>positive</td>\n",
       "      <td>82.138110</td>\n",
       "      <td>81.005804</td>\n",
       "    </tr>\n",
       "  </tbody>\n",
       "</table>\n",
       "</div>"
      ],
      "text/plain": [
       "          VADER score  Rating score\n",
       "negative    89.113515     75.279902\n",
       "positive    82.138110     81.005804"
      ]
     },
     "execution_count": 9,
     "metadata": {},
     "output_type": "execute_result"
    }
   ],
   "source": [
    "#PRECISION\n",
    "precision_df = pd.DataFrame({\"VADER score\":[vader_df.precision[0]*100, vader_df.precision[1]*100], \n",
    "                             \"Rating score\":[rating_df.precision[0]*100, rating_df.precision[1]*100]})\n",
    "index = [\"negative\", \"positive\"]\n",
    "precision_df.index = index\n",
    "precision_df"
   ]
  },
  {
   "cell_type": "code",
   "execution_count": 10,
   "metadata": {},
   "outputs": [
    {
     "data": {
      "image/png": "[encoded data removed]",
      "text/plain": [
       "<Figure size 432x288 with 1 Axes>"
      ]
     },
     "metadata": {
      "needs_background": "light"
     },
     "output_type": "display_data"
    }
   ],
   "source": [
    "#PRECISION\n",
    "index = np.arange(2)\n",
    "bar_width = 0.35\n",
    "\n",
    "fig, ax = plt.subplots()\n",
    "vader = ax.bar(index, precision_df[\"VADER score\"], bar_width, label=\"Hybrid Approach\")\n",
    "\n",
    "rating = ax.bar(index+bar_width, precision_df[\"Rating score\"], bar_width, label=\"Machine Learning Approach\")\n",
    "\n",
    "ax.set_xlabel('Sentiment Class')\n",
    "ax.set_ylabel('Precision (%)')\n",
    "ax.set_title('Precision for Hybrid and Machine Learning Approaches')\n",
    "ax.set_xticks(index + bar_width / 2)\n",
    "ax.set_yticks(np.arange(0, 140, step=20))\n",
    "ax.set_xticklabels([\"Negative\", \"Positive\"])\n",
    "ax.legend()\n",
    "\n",
    "#plt.show()\n",
    "plt.tight_layout()\n",
    "plt.savefig('Precision of VADER vs Rating.png')"
   ]
  },
  {
   "cell_type": "code",
   "execution_count": 11,
   "metadata": {},
   "outputs": [
    {
     "data": {
      "text/html": [
       "<div>\n",
       "<style scoped>\n",
       "    .dataframe tbody tr th:only-of-type {\n",
       "        vertical-align: middle;\n",
       "    }\n",
       "\n",
       "    .dataframe tbody tr th {\n",
       "        vertical-align: top;\n",
       "    }\n",
       "\n",
       "    .dataframe thead th {\n",
       "        text-align: right;\n",
       "    }\n",
       "</style>\n",
       "<table border=\"1\" class=\"dataframe\">\n",
       "  <thead>\n",
       "    <tr style=\"text-align: right;\">\n",
       "      <th></th>\n",
       "      <th>VADER score</th>\n",
       "      <th>Rating score</th>\n",
       "    </tr>\n",
       "  </thead>\n",
       "  <tbody>\n",
       "    <tr>\n",
       "      <td>negative</td>\n",
       "      <td>85.485537</td>\n",
       "      <td>71.548144</td>\n",
       "    </tr>\n",
       "    <tr>\n",
       "      <td>positive</td>\n",
       "      <td>86.470374</td>\n",
       "      <td>83.778335</td>\n",
       "    </tr>\n",
       "  </tbody>\n",
       "</table>\n",
       "</div>"
      ],
      "text/plain": [
       "          VADER score  Rating score\n",
       "negative    85.485537     71.548144\n",
       "positive    86.470374     83.778335"
      ]
     },
     "execution_count": 11,
     "metadata": {},
     "output_type": "execute_result"
    }
   ],
   "source": [
    "#RECALL\n",
    "recall_df = pd.DataFrame({\"VADER score\":[vader_df.recall[0]*100, vader_df.recall[1]*100], \n",
    "                          \"Rating score\":[rating_df.recall[0]*100, rating_df.recall[1]*100]})\n",
    "index = [\"negative\", \"positive\"]\n",
    "recall_df.index = index\n",
    "recall_df"
   ]
  },
  {
   "cell_type": "code",
   "execution_count": 12,
   "metadata": {},
   "outputs": [
    {
     "data": {
      "image/png": "[encoded data removed]",
      "text/plain": [
       "<Figure size 432x288 with 1 Axes>"
      ]
     },
     "metadata": {
      "needs_background": "light"
     },
     "output_type": "display_data"
    }
   ],
   "source": [
    "#RECALL\n",
    "index = np.arange(2)\n",
    "bar_width = 0.35\n",
    "\n",
    "fig, ax = plt.subplots()\n",
    "vader = ax.bar(index, recall_df[\"VADER score\"], bar_width, label=\"Hybrid Approach\")\n",
    "\n",
    "rating = ax.bar(index+bar_width, recall_df[\"Rating score\"], bar_width, label=\"Machine Learning Approach\")\n",
    "\n",
    "ax.set_xlabel('Sentiment Class')\n",
    "ax.set_ylabel('Recall (%)')\n",
    "ax.set_title('Recall for Hybrid and Machine Learning Approaches')\n",
    "ax.set_xticks(index + bar_width / 2)\n",
    "ax.set_yticks(np.arange(0, 140, step=20))\n",
    "ax.set_xticklabels([\"Negative\", \"Positive\"])\n",
    "ax.legend()\n",
    "\n",
    "#plt.show()\n",
    "plt.tight_layout()\n",
    "plt.savefig('Recall of VADER vs Rating.png')"
   ]
  },
  {
   "cell_type": "code",
   "execution_count": 13,
   "metadata": {},
   "outputs": [
    {
     "data": {
      "text/html": [
       "<div>\n",
       "<style scoped>\n",
       "    .dataframe tbody tr th:only-of-type {\n",
       "        vertical-align: middle;\n",
       "    }\n",
       "\n",
       "    .dataframe tbody tr th {\n",
       "        vertical-align: top;\n",
       "    }\n",
       "\n",
       "    .dataframe thead th {\n",
       "        text-align: right;\n",
       "    }\n",
       "</style>\n",
       "<table border=\"1\" class=\"dataframe\">\n",
       "  <thead>\n",
       "    <tr style=\"text-align: right;\">\n",
       "      <th></th>\n",
       "      <th>VADER score</th>\n",
       "      <th>Rating score</th>\n",
       "    </tr>\n",
       "  </thead>\n",
       "  <tbody>\n",
       "    <tr>\n",
       "      <td>negative</td>\n",
       "      <td>87.261833</td>\n",
       "      <td>73.366600</td>\n",
       "    </tr>\n",
       "    <tr>\n",
       "      <td>positive</td>\n",
       "      <td>84.248585</td>\n",
       "      <td>82.368746</td>\n",
       "    </tr>\n",
       "  </tbody>\n",
       "</table>\n",
       "</div>"
      ],
      "text/plain": [
       "          VADER score  Rating score\n",
       "negative    87.261833     73.366600\n",
       "positive    84.248585     82.368746"
      ]
     },
     "execution_count": 13,
     "metadata": {},
     "output_type": "execute_result"
    }
   ],
   "source": [
    "#FSCORE\n",
    "fscore_df = pd.DataFrame({\"VADER score\":[vader_df[\"f1-score\"][0]*100, vader_df[\"f1-score\"][1]*100], \n",
    "                          \"Rating score\":[rating_df[\"f1-score\"][0]*100, rating_df[\"f1-score\"][1]*100]})\n",
    "index = [\"negative\", \"positive\"]\n",
    "fscore_df.index = index\n",
    "fscore_df"
   ]
  },
  {
   "cell_type": "code",
   "execution_count": 14,
   "metadata": {},
   "outputs": [
    {
     "data": {
      "image/png": "[encoded data removed]",
      "text/plain": [
       "<Figure size 432x288 with 1 Axes>"
      ]
     },
     "metadata": {
      "needs_background": "light"
     },
     "output_type": "display_data"
    }
   ],
   "source": [
    "#FSCORE\n",
    "index = np.arange(2)\n",
    "bar_width = 0.35\n",
    "\n",
    "fig, ax = plt.subplots()\n",
    "vader = ax.bar(index, fscore_df[\"VADER score\"], bar_width, label=\"Hybrid Approach\")\n",
    "\n",
    "rating = ax.bar(index+bar_width, fscore_df[\"Rating score\"], bar_width, label=\"Machine Learning Approach\")\n",
    "\n",
    "ax.set_xlabel('Sentiment Class')\n",
    "ax.set_ylabel('F1-Score (%)')\n",
    "ax.set_title('F1-Score for Hybrid and Machine Learning Approaches')\n",
    "ax.set_xticks(index + bar_width / 2)\n",
    "ax.set_yticks(np.arange(0, 140, step=20))\n",
    "ax.set_xticklabels([\"Negative\", \"Positive\"])\n",
    "ax.legend()\n",
    "\n",
    "#plt.show()\n",
    "plt.tight_layout()\n",
    "plt.savefig('F1-Score of VADER vs Rating.png')"
   ]
  },
  {
   "cell_type": "code",
   "execution_count": 15,
   "metadata": {},
   "outputs": [
    {
     "data": {
      "text/html": [
       "<div>\n",
       "<style scoped>\n",
       "    .dataframe tbody tr th:only-of-type {\n",
       "        vertical-align: middle;\n",
       "    }\n",
       "\n",
       "    .dataframe tbody tr th {\n",
       "        vertical-align: top;\n",
       "    }\n",
       "\n",
       "    .dataframe thead th {\n",
       "        text-align: right;\n",
       "    }\n",
       "</style>\n",
       "<table border=\"1\" class=\"dataframe\">\n",
       "  <thead>\n",
       "    <tr style=\"text-align: right;\">\n",
       "      <th></th>\n",
       "      <th>VADER score</th>\n",
       "      <th>Rating score</th>\n",
       "    </tr>\n",
       "  </thead>\n",
       "  <tbody>\n",
       "    <tr>\n",
       "      <td>0</td>\n",
       "      <td>85.91456</td>\n",
       "      <td>78.78306</td>\n",
       "    </tr>\n",
       "  </tbody>\n",
       "</table>\n",
       "</div>"
      ],
      "text/plain": [
       "   VADER score  Rating score\n",
       "0     85.91456      78.78306"
      ]
     },
     "execution_count": 15,
     "metadata": {},
     "output_type": "execute_result"
    }
   ],
   "source": [
    "#ACCURACY\n",
    "accuracy_df = pd.DataFrame({\"VADER score\":[vader_df[\"precision\"][2]*100], \n",
    "                           \"Rating score\":[rating_df[\"precision\"][2]*100]})\n",
    "\n",
    "accuracy_df"
   ]
  },
  {
   "cell_type": "code",
   "execution_count": 16,
   "metadata": {},
   "outputs": [
    {
     "data": {
      "image/png": "[encoded data removed]",
      "text/plain": [
       "<Figure size 432x288 with 1 Axes>"
      ]
     },
     "metadata": {
      "needs_background": "light"
     },
     "output_type": "display_data"
    }
   ],
   "source": [
    "#ACCURACY\n",
    "index = np.arange(1)\n",
    "bar_width = 0.35\n",
    "\n",
    "fig, ax = plt.subplots()\n",
    "vader = ax.bar(index, accuracy_df[\"VADER score\"], bar_width)\n",
    "\n",
    "rating = ax.bar(index+bar_width, accuracy_df[\"Rating score\"], bar_width)\n",
    "\n",
    "ax.set_xlabel('Methods')\n",
    "ax.set_ylabel('Accuracy (%)')\n",
    "ax.set_title('Accuracy for Hybrid and Machine Learning Approaches')\n",
    "ax.set_xticks([0, 0.35])\n",
    "ax.set_yticks(np.arange(0, 120, step=20))\n",
    "ax.set_xticklabels([\"Hybrid\", \"Machine Learning\"])\n",
    "\n",
    "#plt.show()\n",
    "plt.tight_layout()\n",
    "plt.savefig('Accuracy of VADER vs Rating.png')"
   ]
  },
  {
   "cell_type": "code",
   "execution_count": null,
   "metadata": {},
   "outputs": [],
   "source": []
  },
  {
   "cell_type": "code",
   "execution_count": null,
   "metadata": {},
   "outputs": [],
   "source": []
  }
 ],
 "metadata": {
  "kernelspec": {
   "display_name": "Python 3",
   "language": "python",
   "name": "python3"
  },
  "language_info": {
   "codemirror_mode": {
    "name": "ipython",
    "version": 3
   },
   "file_extension": ".py",
   "mimetype": "text/x-python",
   "name": "python",
   "nbconvert_exporter": "python",
   "pygments_lexer": "ipython3",
   "version": "3.7.4"
  }
 },
 "nbformat": 4,
 "nbformat_minor": 2
}
